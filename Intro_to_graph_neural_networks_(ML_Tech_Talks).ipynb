{
  "nbformat": 4,
  "nbformat_minor": 0,
  "metadata": {
    "colab": {
      "name": "Intro to graph neural networks (ML Tech Talks).ipynb",
      "provenance": [],
      "collapsed_sections": [],
      "authorship_tag": "ABX9TyNL+vJnAsU5YfDvOMymht1d",
      "include_colab_link": true
    },
    "kernelspec": {
      "name": "python3",
      "display_name": "Python 3"
    },
    "language_info": {
      "name": "python"
    },
    "accelerator": "GPU"
  },
  "cells": [
    {
      "cell_type": "markdown",
      "metadata": {
        "id": "view-in-github",
        "colab_type": "text"
      },
      "source": [
        "<a href=\"https://colab.research.google.com/github/DataScienceSolutions/GNN/blob/main/Intro_to_graph_neural_networks_(ML_Tech_Talks).ipynb\" target=\"_parent\"><img src=\"https://colab.research.google.com/assets/colab-badge.svg\" alt=\"Open In Colab\"/></a>"
      ]
    },
    {
      "cell_type": "markdown",
      "metadata": {
        "id": "z2Z8fH5aSLi9"
      },
      "source": [
        "# Intro to graph neural networks (ML Tech Talks)\n",
        "\n",
        "https://www.youtube.com/watch?v=8owQBFAHw7E&t=1937s"
      ]
    },
    {
      "cell_type": "code",
      "metadata": {
        "colab": {
          "base_uri": "https://localhost:8080/"
        },
        "id": "NCeOvp2iBffv",
        "outputId": "c0f45024-d401-45af-e35e-b93cdd9d89ac"
      },
      "source": [
        "!pip install numpy==1.18.5\n",
        "!pip install tensorflow==2.3.0\n",
        "!pip install spektral==0.6.2\n",
        "\n",
        "import numpy as np\n",
        "import tensorflow as tf\n",
        "import spektral"
      ],
      "execution_count": null,
      "outputs": [
        {
          "output_type": "stream",
          "text": [
            "Requirement already satisfied: numpy==1.18.5 in /usr/local/lib/python3.7/dist-packages (1.18.5)\n",
            "Requirement already satisfied: tensorflow==2.3.0 in /usr/local/lib/python3.7/dist-packages (2.3.0)\n",
            "Requirement already satisfied: scipy==1.4.1 in /usr/local/lib/python3.7/dist-packages (from tensorflow==2.3.0) (1.4.1)\n",
            "Requirement already satisfied: astunparse==1.6.3 in /usr/local/lib/python3.7/dist-packages (from tensorflow==2.3.0) (1.6.3)\n",
            "Requirement already satisfied: absl-py>=0.7.0 in /usr/local/lib/python3.7/dist-packages (from tensorflow==2.3.0) (0.12.0)\n",
            "Requirement already satisfied: tensorflow-estimator<2.4.0,>=2.3.0 in /usr/local/lib/python3.7/dist-packages (from tensorflow==2.3.0) (2.3.0)\n",
            "Requirement already satisfied: wrapt>=1.11.1 in /usr/local/lib/python3.7/dist-packages (from tensorflow==2.3.0) (1.12.1)\n",
            "Requirement already satisfied: protobuf>=3.9.2 in /usr/local/lib/python3.7/dist-packages (from tensorflow==2.3.0) (3.17.3)\n",
            "Requirement already satisfied: wheel>=0.26 in /usr/local/lib/python3.7/dist-packages (from tensorflow==2.3.0) (0.36.2)\n",
            "Requirement already satisfied: termcolor>=1.1.0 in /usr/local/lib/python3.7/dist-packages (from tensorflow==2.3.0) (1.1.0)\n",
            "Requirement already satisfied: gast==0.3.3 in /usr/local/lib/python3.7/dist-packages (from tensorflow==2.3.0) (0.3.3)\n",
            "Requirement already satisfied: google-pasta>=0.1.8 in /usr/local/lib/python3.7/dist-packages (from tensorflow==2.3.0) (0.2.0)\n",
            "Requirement already satisfied: opt-einsum>=2.3.2 in /usr/local/lib/python3.7/dist-packages (from tensorflow==2.3.0) (3.3.0)\n",
            "Requirement already satisfied: tensorboard<3,>=2.3.0 in /usr/local/lib/python3.7/dist-packages (from tensorflow==2.3.0) (2.5.0)\n",
            "Requirement already satisfied: grpcio>=1.8.6 in /usr/local/lib/python3.7/dist-packages (from tensorflow==2.3.0) (1.34.1)\n",
            "Requirement already satisfied: keras-preprocessing<1.2,>=1.1.1 in /usr/local/lib/python3.7/dist-packages (from tensorflow==2.3.0) (1.1.2)\n",
            "Requirement already satisfied: numpy<1.19.0,>=1.16.0 in /usr/local/lib/python3.7/dist-packages (from tensorflow==2.3.0) (1.18.5)\n",
            "Requirement already satisfied: h5py<2.11.0,>=2.10.0 in /usr/local/lib/python3.7/dist-packages (from tensorflow==2.3.0) (2.10.0)\n",
            "Requirement already satisfied: six>=1.12.0 in /usr/local/lib/python3.7/dist-packages (from tensorflow==2.3.0) (1.15.0)\n",
            "Requirement already satisfied: google-auth-oauthlib<0.5,>=0.4.1 in /usr/local/lib/python3.7/dist-packages (from tensorboard<3,>=2.3.0->tensorflow==2.3.0) (0.4.4)\n",
            "Requirement already satisfied: tensorboard-plugin-wit>=1.6.0 in /usr/local/lib/python3.7/dist-packages (from tensorboard<3,>=2.3.0->tensorflow==2.3.0) (1.8.0)\n",
            "Requirement already satisfied: werkzeug>=0.11.15 in /usr/local/lib/python3.7/dist-packages (from tensorboard<3,>=2.3.0->tensorflow==2.3.0) (1.0.1)\n",
            "Requirement already satisfied: requests<3,>=2.21.0 in /usr/local/lib/python3.7/dist-packages (from tensorboard<3,>=2.3.0->tensorflow==2.3.0) (2.23.0)\n",
            "Requirement already satisfied: google-auth<2,>=1.6.3 in /usr/local/lib/python3.7/dist-packages (from tensorboard<3,>=2.3.0->tensorflow==2.3.0) (1.32.1)\n",
            "Requirement already satisfied: setuptools>=41.0.0 in /usr/local/lib/python3.7/dist-packages (from tensorboard<3,>=2.3.0->tensorflow==2.3.0) (57.0.0)\n",
            "Requirement already satisfied: tensorboard-data-server<0.7.0,>=0.6.0 in /usr/local/lib/python3.7/dist-packages (from tensorboard<3,>=2.3.0->tensorflow==2.3.0) (0.6.1)\n",
            "Requirement already satisfied: markdown>=2.6.8 in /usr/local/lib/python3.7/dist-packages (from tensorboard<3,>=2.3.0->tensorflow==2.3.0) (3.3.4)\n",
            "Requirement already satisfied: requests-oauthlib>=0.7.0 in /usr/local/lib/python3.7/dist-packages (from google-auth-oauthlib<0.5,>=0.4.1->tensorboard<3,>=2.3.0->tensorflow==2.3.0) (1.3.0)\n",
            "Requirement already satisfied: idna<3,>=2.5 in /usr/local/lib/python3.7/dist-packages (from requests<3,>=2.21.0->tensorboard<3,>=2.3.0->tensorflow==2.3.0) (2.10)\n",
            "Requirement already satisfied: urllib3!=1.25.0,!=1.25.1,<1.26,>=1.21.1 in /usr/local/lib/python3.7/dist-packages (from requests<3,>=2.21.0->tensorboard<3,>=2.3.0->tensorflow==2.3.0) (1.24.3)\n",
            "Requirement already satisfied: certifi>=2017.4.17 in /usr/local/lib/python3.7/dist-packages (from requests<3,>=2.21.0->tensorboard<3,>=2.3.0->tensorflow==2.3.0) (2021.5.30)\n",
            "Requirement already satisfied: chardet<4,>=3.0.2 in /usr/local/lib/python3.7/dist-packages (from requests<3,>=2.21.0->tensorboard<3,>=2.3.0->tensorflow==2.3.0) (3.0.4)\n",
            "Requirement already satisfied: cachetools<5.0,>=2.0.0 in /usr/local/lib/python3.7/dist-packages (from google-auth<2,>=1.6.3->tensorboard<3,>=2.3.0->tensorflow==2.3.0) (4.2.2)\n",
            "Requirement already satisfied: pyasn1-modules>=0.2.1 in /usr/local/lib/python3.7/dist-packages (from google-auth<2,>=1.6.3->tensorboard<3,>=2.3.0->tensorflow==2.3.0) (0.2.8)\n",
            "Requirement already satisfied: rsa<5,>=3.1.4; python_version >= \"3.6\" in /usr/local/lib/python3.7/dist-packages (from google-auth<2,>=1.6.3->tensorboard<3,>=2.3.0->tensorflow==2.3.0) (4.7.2)\n",
            "Requirement already satisfied: importlib-metadata; python_version < \"3.8\" in /usr/local/lib/python3.7/dist-packages (from markdown>=2.6.8->tensorboard<3,>=2.3.0->tensorflow==2.3.0) (4.6.0)\n",
            "Requirement already satisfied: oauthlib>=3.0.0 in /usr/local/lib/python3.7/dist-packages (from requests-oauthlib>=0.7.0->google-auth-oauthlib<0.5,>=0.4.1->tensorboard<3,>=2.3.0->tensorflow==2.3.0) (3.1.1)\n",
            "Requirement already satisfied: pyasn1<0.5.0,>=0.4.6 in /usr/local/lib/python3.7/dist-packages (from pyasn1-modules>=0.2.1->google-auth<2,>=1.6.3->tensorboard<3,>=2.3.0->tensorflow==2.3.0) (0.4.8)\n",
            "Requirement already satisfied: typing-extensions>=3.6.4; python_version < \"3.8\" in /usr/local/lib/python3.7/dist-packages (from importlib-metadata; python_version < \"3.8\"->markdown>=2.6.8->tensorboard<3,>=2.3.0->tensorflow==2.3.0) (3.7.4.3)\n",
            "Requirement already satisfied: zipp>=0.5 in /usr/local/lib/python3.7/dist-packages (from importlib-metadata; python_version < \"3.8\"->markdown>=2.6.8->tensorboard<3,>=2.3.0->tensorflow==2.3.0) (3.4.1)\n",
            "Requirement already satisfied: spektral==0.6.2 in /usr/local/lib/python3.7/dist-packages (0.6.2)\n",
            "Requirement already satisfied: networkx in /usr/local/lib/python3.7/dist-packages (from spektral==0.6.2) (2.5.1)\n",
            "Requirement already satisfied: joblib in /usr/local/lib/python3.7/dist-packages (from spektral==0.6.2) (1.0.1)\n",
            "Requirement already satisfied: requests in /usr/local/lib/python3.7/dist-packages (from spektral==0.6.2) (2.23.0)\n",
            "Requirement already satisfied: scikit-learn in /usr/local/lib/python3.7/dist-packages (from spektral==0.6.2) (0.22.2.post1)\n",
            "Requirement already satisfied: numpy in /usr/local/lib/python3.7/dist-packages (from spektral==0.6.2) (1.18.5)\n",
            "Requirement already satisfied: scipy in /usr/local/lib/python3.7/dist-packages (from spektral==0.6.2) (1.4.1)\n",
            "Requirement already satisfied: tensorflow>=2.1.0 in /usr/local/lib/python3.7/dist-packages (from spektral==0.6.2) (2.3.0)\n",
            "Requirement already satisfied: lxml in /usr/local/lib/python3.7/dist-packages (from spektral==0.6.2) (4.2.6)\n",
            "Requirement already satisfied: pandas in /usr/local/lib/python3.7/dist-packages (from spektral==0.6.2) (1.1.5)\n",
            "Requirement already satisfied: decorator<5,>=4.3 in /usr/local/lib/python3.7/dist-packages (from networkx->spektral==0.6.2) (4.4.2)\n",
            "Requirement already satisfied: idna<3,>=2.5 in /usr/local/lib/python3.7/dist-packages (from requests->spektral==0.6.2) (2.10)\n",
            "Requirement already satisfied: urllib3!=1.25.0,!=1.25.1,<1.26,>=1.21.1 in /usr/local/lib/python3.7/dist-packages (from requests->spektral==0.6.2) (1.24.3)\n",
            "Requirement already satisfied: chardet<4,>=3.0.2 in /usr/local/lib/python3.7/dist-packages (from requests->spektral==0.6.2) (3.0.4)\n",
            "Requirement already satisfied: certifi>=2017.4.17 in /usr/local/lib/python3.7/dist-packages (from requests->spektral==0.6.2) (2021.5.30)\n",
            "Requirement already satisfied: h5py<2.11.0,>=2.10.0 in /usr/local/lib/python3.7/dist-packages (from tensorflow>=2.1.0->spektral==0.6.2) (2.10.0)\n",
            "Requirement already satisfied: keras-preprocessing<1.2,>=1.1.1 in /usr/local/lib/python3.7/dist-packages (from tensorflow>=2.1.0->spektral==0.6.2) (1.1.2)\n",
            "Requirement already satisfied: termcolor>=1.1.0 in /usr/local/lib/python3.7/dist-packages (from tensorflow>=2.1.0->spektral==0.6.2) (1.1.0)\n",
            "Requirement already satisfied: opt-einsum>=2.3.2 in /usr/local/lib/python3.7/dist-packages (from tensorflow>=2.1.0->spektral==0.6.2) (3.3.0)\n",
            "Requirement already satisfied: grpcio>=1.8.6 in /usr/local/lib/python3.7/dist-packages (from tensorflow>=2.1.0->spektral==0.6.2) (1.34.1)\n",
            "Requirement already satisfied: google-pasta>=0.1.8 in /usr/local/lib/python3.7/dist-packages (from tensorflow>=2.1.0->spektral==0.6.2) (0.2.0)\n",
            "Requirement already satisfied: astunparse==1.6.3 in /usr/local/lib/python3.7/dist-packages (from tensorflow>=2.1.0->spektral==0.6.2) (1.6.3)\n",
            "Requirement already satisfied: wrapt>=1.11.1 in /usr/local/lib/python3.7/dist-packages (from tensorflow>=2.1.0->spektral==0.6.2) (1.12.1)\n",
            "Requirement already satisfied: six>=1.12.0 in /usr/local/lib/python3.7/dist-packages (from tensorflow>=2.1.0->spektral==0.6.2) (1.15.0)\n",
            "Requirement already satisfied: tensorboard<3,>=2.3.0 in /usr/local/lib/python3.7/dist-packages (from tensorflow>=2.1.0->spektral==0.6.2) (2.5.0)\n",
            "Requirement already satisfied: gast==0.3.3 in /usr/local/lib/python3.7/dist-packages (from tensorflow>=2.1.0->spektral==0.6.2) (0.3.3)\n",
            "Requirement already satisfied: tensorflow-estimator<2.4.0,>=2.3.0 in /usr/local/lib/python3.7/dist-packages (from tensorflow>=2.1.0->spektral==0.6.2) (2.3.0)\n",
            "Requirement already satisfied: protobuf>=3.9.2 in /usr/local/lib/python3.7/dist-packages (from tensorflow>=2.1.0->spektral==0.6.2) (3.17.3)\n",
            "Requirement already satisfied: wheel>=0.26 in /usr/local/lib/python3.7/dist-packages (from tensorflow>=2.1.0->spektral==0.6.2) (0.36.2)\n",
            "Requirement already satisfied: absl-py>=0.7.0 in /usr/local/lib/python3.7/dist-packages (from tensorflow>=2.1.0->spektral==0.6.2) (0.12.0)\n",
            "Requirement already satisfied: python-dateutil>=2.7.3 in /usr/local/lib/python3.7/dist-packages (from pandas->spektral==0.6.2) (2.8.1)\n",
            "Requirement already satisfied: pytz>=2017.2 in /usr/local/lib/python3.7/dist-packages (from pandas->spektral==0.6.2) (2018.9)\n",
            "Requirement already satisfied: tensorboard-plugin-wit>=1.6.0 in /usr/local/lib/python3.7/dist-packages (from tensorboard<3,>=2.3.0->tensorflow>=2.1.0->spektral==0.6.2) (1.8.0)\n",
            "Requirement already satisfied: google-auth<2,>=1.6.3 in /usr/local/lib/python3.7/dist-packages (from tensorboard<3,>=2.3.0->tensorflow>=2.1.0->spektral==0.6.2) (1.32.1)\n",
            "Requirement already satisfied: markdown>=2.6.8 in /usr/local/lib/python3.7/dist-packages (from tensorboard<3,>=2.3.0->tensorflow>=2.1.0->spektral==0.6.2) (3.3.4)\n",
            "Requirement already satisfied: google-auth-oauthlib<0.5,>=0.4.1 in /usr/local/lib/python3.7/dist-packages (from tensorboard<3,>=2.3.0->tensorflow>=2.1.0->spektral==0.6.2) (0.4.4)\n",
            "Requirement already satisfied: werkzeug>=0.11.15 in /usr/local/lib/python3.7/dist-packages (from tensorboard<3,>=2.3.0->tensorflow>=2.1.0->spektral==0.6.2) (1.0.1)\n",
            "Requirement already satisfied: setuptools>=41.0.0 in /usr/local/lib/python3.7/dist-packages (from tensorboard<3,>=2.3.0->tensorflow>=2.1.0->spektral==0.6.2) (57.0.0)\n",
            "Requirement already satisfied: tensorboard-data-server<0.7.0,>=0.6.0 in /usr/local/lib/python3.7/dist-packages (from tensorboard<3,>=2.3.0->tensorflow>=2.1.0->spektral==0.6.2) (0.6.1)\n",
            "Requirement already satisfied: pyasn1-modules>=0.2.1 in /usr/local/lib/python3.7/dist-packages (from google-auth<2,>=1.6.3->tensorboard<3,>=2.3.0->tensorflow>=2.1.0->spektral==0.6.2) (0.2.8)\n",
            "Requirement already satisfied: rsa<5,>=3.1.4; python_version >= \"3.6\" in /usr/local/lib/python3.7/dist-packages (from google-auth<2,>=1.6.3->tensorboard<3,>=2.3.0->tensorflow>=2.1.0->spektral==0.6.2) (4.7.2)\n",
            "Requirement already satisfied: cachetools<5.0,>=2.0.0 in /usr/local/lib/python3.7/dist-packages (from google-auth<2,>=1.6.3->tensorboard<3,>=2.3.0->tensorflow>=2.1.0->spektral==0.6.2) (4.2.2)\n",
            "Requirement already satisfied: importlib-metadata; python_version < \"3.8\" in /usr/local/lib/python3.7/dist-packages (from markdown>=2.6.8->tensorboard<3,>=2.3.0->tensorflow>=2.1.0->spektral==0.6.2) (4.6.0)\n",
            "Requirement already satisfied: requests-oauthlib>=0.7.0 in /usr/local/lib/python3.7/dist-packages (from google-auth-oauthlib<0.5,>=0.4.1->tensorboard<3,>=2.3.0->tensorflow>=2.1.0->spektral==0.6.2) (1.3.0)\n",
            "Requirement already satisfied: pyasn1<0.5.0,>=0.4.6 in /usr/local/lib/python3.7/dist-packages (from pyasn1-modules>=0.2.1->google-auth<2,>=1.6.3->tensorboard<3,>=2.3.0->tensorflow>=2.1.0->spektral==0.6.2) (0.4.8)\n",
            "Requirement already satisfied: zipp>=0.5 in /usr/local/lib/python3.7/dist-packages (from importlib-metadata; python_version < \"3.8\"->markdown>=2.6.8->tensorboard<3,>=2.3.0->tensorflow>=2.1.0->spektral==0.6.2) (3.4.1)\n",
            "Requirement already satisfied: typing-extensions>=3.6.4; python_version < \"3.8\" in /usr/local/lib/python3.7/dist-packages (from importlib-metadata; python_version < \"3.8\"->markdown>=2.6.8->tensorboard<3,>=2.3.0->tensorflow>=2.1.0->spektral==0.6.2) (3.7.4.3)\n",
            "Requirement already satisfied: oauthlib>=3.0.0 in /usr/local/lib/python3.7/dist-packages (from requests-oauthlib>=0.7.0->google-auth-oauthlib<0.5,>=0.4.1->tensorboard<3,>=2.3.0->tensorflow>=2.1.0->spektral==0.6.2) (3.1.1)\n"
          ],
          "name": "stdout"
        }
      ]
    },
    {
      "cell_type": "code",
      "metadata": {
        "colab": {
          "base_uri": "https://localhost:8080/",
          "height": 35
        },
        "id": "cC36FTIPMvkX",
        "outputId": "7021a7e6-83a3-442d-e156-92f639b5c952"
      },
      "source": [
        "# Runtime / Change runtime type / Hardware = GPU\n",
        "tf.test.gpu_device_name()"
      ],
      "execution_count": null,
      "outputs": [
        {
          "output_type": "execute_result",
          "data": {
            "application/vnd.google.colaboratory.intrinsic+json": {
              "type": "string"
            },
            "text/plain": [
              "'/device:GPU:0'"
            ]
          },
          "metadata": {
            "tags": []
          },
          "execution_count": 20
        }
      ]
    },
    {
      "cell_type": "code",
      "metadata": {
        "colab": {
          "base_uri": "https://localhost:8080/"
        },
        "id": "HQT1L9tNM7PU",
        "outputId": "c9d8885a-6e28-4a0b-e521-b979c8471f78"
      },
      "source": [
        "from tensorflow.python.client import device_lib\n",
        "device_lib.list_local_devices()"
      ],
      "execution_count": null,
      "outputs": [
        {
          "output_type": "execute_result",
          "data": {
            "text/plain": [
              "[name: \"/device:CPU:0\"\n",
              " device_type: \"CPU\"\n",
              " memory_limit: 268435456\n",
              " locality {\n",
              " }\n",
              " incarnation: 6675431160962305996, name: \"/device:XLA_CPU:0\"\n",
              " device_type: \"XLA_CPU\"\n",
              " memory_limit: 17179869184\n",
              " locality {\n",
              " }\n",
              " incarnation: 18413698269756290677\n",
              " physical_device_desc: \"device: XLA_CPU device\", name: \"/device:XLA_GPU:0\"\n",
              " device_type: \"XLA_GPU\"\n",
              " memory_limit: 17179869184\n",
              " locality {\n",
              " }\n",
              " incarnation: 1517182659890164298\n",
              " physical_device_desc: \"device: XLA_GPU device\", name: \"/device:GPU:0\"\n",
              " device_type: \"GPU\"\n",
              " memory_limit: 14648653952\n",
              " locality {\n",
              "   bus_id: 1\n",
              "   links {\n",
              "   }\n",
              " }\n",
              " incarnation: 16905184592759017185\n",
              " physical_device_desc: \"device: 0, name: Tesla T4, pci bus id: 0000:00:04.0, compute capability: 7.5\"]"
            ]
          },
          "metadata": {
            "tags": []
          },
          "execution_count": 28
        }
      ]
    },
    {
      "cell_type": "code",
      "metadata": {
        "colab": {
          "base_uri": "https://localhost:8080/"
        },
        "id": "JaVHL_5lBrYy",
        "outputId": "4602dbaa-2c0d-4267-f2cf-1630a44fccb3"
      },
      "source": [
        "adj, features, labels, train_mask, val_mask, test_mask = spektral.datasets.citation.load_data(dataset_name='cora')\n",
        "\n",
        "features = features.todense()\n",
        "adj = adj.todense() + np.eye(adj.shape[0])\n",
        "features = features.astype('float32')\n",
        "adj = adj.astype('float32')\n",
        "\n",
        "print(features.shape)\n",
        "print(adj.shape)\n",
        "print(labels.shape)\n",
        "\n",
        "print(np.sum(train_mask))\n",
        "print(np.sum(val_mask))\n",
        "print(np.sum(test_mask))"
      ],
      "execution_count": null,
      "outputs": [
        {
          "output_type": "stream",
          "text": [
            "Loading cora dataset\n",
            "Pre-processing node features\n",
            "(2708, 1433)\n",
            "(2708, 2708)\n",
            "(2708, 7)\n",
            "140\n",
            "500\n",
            "1000\n"
          ],
          "name": "stdout"
        }
      ]
    },
    {
      "cell_type": "code",
      "metadata": {
        "id": "lyB75r3FEbai"
      },
      "source": [
        "def masked_softmax_cross_entropy(logits, labels, mask):\n",
        "  loss = tf.nn.softmax_cross_entropy_with_logits(logits=logits, labels=labels)\n",
        "  mask = tf.cast(mask, dtype=tf.float32)\n",
        "  mask /= tf.reduce_mean(mask)\n",
        "  loss *= mask\n",
        "  return tf.reduce_mean(loss)\n",
        "\n",
        "def masked_accuracy(logits, labels, mask):\n",
        "  correct_prediction = tf.equal(tf.argmax(logits, 1), tf.argmax(labels, 1))\n",
        "  accuracy_all = tf.cast(correct_prediction, tf.float32)\n",
        "  mask = tf.cast(mask, dtype=tf.float32)\n",
        "  mask /= tf.reduce_mean(mask)\n",
        "  accuracy_all *= mask\n",
        "  return tf.reduce_mean(accuracy_all)"
      ],
      "execution_count": null,
      "outputs": []
    },
    {
      "cell_type": "code",
      "metadata": {
        "id": "Pttrqo2oIThK"
      },
      "source": [
        "def gnn(fts, adj, transform, activation):\n",
        "  seq_fts = transform(fts)\n",
        "  ret_fts = tf.matmul(adj, seq_fts)\n",
        "  return activation(ret_fts)"
      ],
      "execution_count": null,
      "outputs": []
    },
    {
      "cell_type": "code",
      "metadata": {
        "id": "F9CHgRHzIzdq"
      },
      "source": [
        "def train_cora(fts, adj, gnn_fn, units, epochs, lr):\n",
        "  lyr_1 = tf.keras.layers.Dense(units)\n",
        "  lyr_2 = tf.keras.layers.Dense(7)\n",
        "\n",
        "  def cora_gnn(fts, adj):\n",
        "    hidden = gnn_fn(fts, adj, lyr_1, tf.nn.relu)\n",
        "    logits = gnn_fn(hidden, adj, lyr_2, tf.identity)\n",
        "    return logits\n",
        "\n",
        "  optimizer = tf.keras.optimizers.Adam(learning_rate=lr)\n",
        "\n",
        "  best_accuracy = 0.0\n",
        "  for ep in range(epochs +1):\n",
        "    with tf.GradientTape() as t:\n",
        "      logits = cora_gnn(fts, adj)\n",
        "      loss = masked_softmax_cross_entropy(logits, labels, train_mask)\n",
        "\n",
        "    variables = t.watched_variables()\n",
        "    grads = t.gradient(loss, variables)\n",
        "    optimizer.apply_gradients(zip(grads, variables))\n",
        "\n",
        "    logits = cora_gnn(fts, adj)\n",
        "    val_accuracy = masked_accuracy(logits, labels, val_mask)\n",
        "    test_accuracy = masked_accuracy(logits, labels, test_mask)\n",
        "    \n",
        "    if val_accuracy > best_accuracy:\n",
        "      best_accuracy = val_accuracy\n",
        "      print('Epoch', ep, '| Training loss:', loss.numpy(), '| Val accuracy:', val_accuracy.numpy(), '|Test accuracy:', test_accuracy.numpy())\n"
      ],
      "execution_count": null,
      "outputs": []
    },
    {
      "cell_type": "code",
      "metadata": {
        "colab": {
          "base_uri": "https://localhost:8080/"
        },
        "id": "uavLCsRPKllL",
        "outputId": "af48b6b3-9597-4000-e5c0-8604c0dfafff"
      },
      "source": [
        "train_cora(features, adj, gnn, 32, 200, 0.01)"
      ],
      "execution_count": null,
      "outputs": [
        {
          "output_type": "stream",
          "text": [
            "Epoch 0 | Training loss: 1.9734956 | Val accuracy: 0.15599999 |Test accuracy: 0.144\n",
            "Epoch 1 | Training loss: 2.3207216 | Val accuracy: 0.29599997 |Test accuracy: 0.30699998\n",
            "Epoch 2 | Training loss: 1.6255368 | Val accuracy: 0.426 |Test accuracy: 0.44399998\n",
            "Epoch 3 | Training loss: 1.5444814 | Val accuracy: 0.47 |Test accuracy: 0.509\n",
            "Epoch 4 | Training loss: 1.4866936 | Val accuracy: 0.502 |Test accuracy: 0.5309999\n",
            "Epoch 5 | Training loss: 1.3794113 | Val accuracy: 0.64599997 |Test accuracy: 0.64799994\n",
            "Epoch 6 | Training loss: 1.2298715 | Val accuracy: 0.678 |Test accuracy: 0.71299994\n",
            "Epoch 7 | Training loss: 1.0824136 | Val accuracy: 0.71799994 |Test accuracy: 0.7289999\n",
            "Epoch 9 | Training loss: 0.9246315 | Val accuracy: 0.72599995 |Test accuracy: 0.7239999\n",
            "Epoch 10 | Training loss: 0.85069346 | Val accuracy: 0.72999996 |Test accuracy: 0.73099995\n",
            "Epoch 11 | Training loss: 0.78055537 | Val accuracy: 0.73399997 |Test accuracy: 0.7439999\n",
            "Epoch 19 | Training loss: 0.39374086 | Val accuracy: 0.73599994 |Test accuracy: 0.75899994\n",
            "Epoch 20 | Training loss: 0.36219385 | Val accuracy: 0.74399996 |Test accuracy: 0.76199996\n",
            "Epoch 21 | Training loss: 0.33225712 | Val accuracy: 0.74799997 |Test accuracy: 0.766\n",
            "Epoch 22 | Training loss: 0.30390427 | Val accuracy: 0.754 |Test accuracy: 0.766\n",
            "Epoch 23 | Training loss: 0.27732736 | Val accuracy: 0.758 |Test accuracy: 0.7649999\n",
            "Epoch 25 | Training loss: 0.23230451 | Val accuracy: 0.76799995 |Test accuracy: 0.7609999\n",
            "Epoch 55 | Training loss: 0.02726574 | Val accuracy: 0.77 |Test accuracy: 0.75999993\n"
          ],
          "name": "stdout"
        }
      ]
    },
    {
      "cell_type": "code",
      "metadata": {
        "colab": {
          "base_uri": "https://localhost:8080/"
        },
        "id": "aC81JQOTKwM9",
        "outputId": "d1e1db3d-58fd-450e-8ba5-70d72f36ed7d"
      },
      "source": [
        "# NN w/o graph structure (identity for adjacency matrix)\n",
        "train_cora(features, tf.eye(adj.shape[0]), gnn, 32, 200, 0.01)"
      ],
      "execution_count": null,
      "outputs": [
        {
          "output_type": "stream",
          "text": [
            "Epoch 0 | Training loss: 1.9470893 | Val accuracy: 0.19199999 |Test accuracy: 0.19099998\n",
            "Epoch 1 | Training loss: 1.9360133 | Val accuracy: 0.24599999 |Test accuracy: 0.27299997\n",
            "Epoch 2 | Training loss: 1.9204361 | Val accuracy: 0.36999997 |Test accuracy: 0.378\n",
            "Epoch 5 | Training loss: 1.8436835 | Val accuracy: 0.38399997 |Test accuracy: 0.38199997\n",
            "Epoch 6 | Training loss: 1.8114039 | Val accuracy: 0.41200003 |Test accuracy: 0.40599996\n",
            "Epoch 7 | Training loss: 1.7756189 | Val accuracy: 0.44799998 |Test accuracy: 0.437\n",
            "Epoch 8 | Training loss: 1.7368519 | Val accuracy: 0.45999998 |Test accuracy: 0.46299994\n",
            "Epoch 9 | Training loss: 1.695024 | Val accuracy: 0.478 |Test accuracy: 0.46999997\n",
            "Epoch 11 | Training loss: 1.6025627 | Val accuracy: 0.48799992 |Test accuracy: 0.48799998\n",
            "Epoch 12 | Training loss: 1.5522933 | Val accuracy: 0.49799994 |Test accuracy: 0.48999992\n",
            "Epoch 13 | Training loss: 1.4994979 | Val accuracy: 0.50399995 |Test accuracy: 0.49199992\n",
            "Epoch 14 | Training loss: 1.4443856 | Val accuracy: 0.50999993 |Test accuracy: 0.49699995\n",
            "Epoch 20 | Training loss: 1.0771542 | Val accuracy: 0.51199996 |Test accuracy: 0.50499994\n",
            "Epoch 21 | Training loss: 1.0127239 | Val accuracy: 0.516 |Test accuracy: 0.50899994\n",
            "Epoch 23 | Training loss: 0.88455844 | Val accuracy: 0.51799995 |Test accuracy: 0.51399994\n",
            "Epoch 24 | Training loss: 0.8216585 | Val accuracy: 0.5219999 |Test accuracy: 0.51299995\n",
            "Epoch 25 | Training loss: 0.7601468 | Val accuracy: 0.5259999 |Test accuracy: 0.51399994\n",
            "Epoch 29 | Training loss: 0.53535885 | Val accuracy: 0.52599996 |Test accuracy: 0.51799995\n",
            "Epoch 30 | Training loss: 0.4859767 | Val accuracy: 0.528 |Test accuracy: 0.51399994\n",
            "Epoch 32 | Training loss: 0.39673483 | Val accuracy: 0.53 |Test accuracy: 0.516\n",
            "Epoch 34 | Training loss: 0.32052127 | Val accuracy: 0.53199995 |Test accuracy: 0.52\n"
          ],
          "name": "stdout"
        }
      ]
    }
  ]
}
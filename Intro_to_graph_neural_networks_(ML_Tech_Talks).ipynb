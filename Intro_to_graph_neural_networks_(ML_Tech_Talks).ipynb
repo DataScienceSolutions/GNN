{
  "nbformat": 4,
  "nbformat_minor": 0,
  "metadata": {
    "colab": {
      "name": "Intro to graph neural networks (ML Tech Talks).ipynb",
      "provenance": [],
      "collapsed_sections": [],
      "authorship_tag": "ABX9TyMS3IgS/wpd5iBtYrYz2N6y",
      "include_colab_link": true
    },
    "kernelspec": {
      "name": "python3",
      "display_name": "Python 3"
    },
    "language_info": {
      "name": "python"
    },
    "accelerator": "GPU"
  },
  "cells": [
    {
      "cell_type": "markdown",
      "metadata": {
        "id": "view-in-github",
        "colab_type": "text"
      },
      "source": [
        "<a href=\"https://colab.research.google.com/github/DataScienceSolutions/GNN/blob/main/Intro_to_graph_neural_networks_(ML_Tech_Talks).ipynb\" target=\"_parent\"><img src=\"https://colab.research.google.com/assets/colab-badge.svg\" alt=\"Open In Colab\"/></a>"
      ]
    },
    {
      "cell_type": "markdown",
      "metadata": {
        "id": "z2Z8fH5aSLi9"
      },
      "source": [
        "# Intro to graph neural networks (ML Tech Talks)\n",
        "\n",
        "https://www.youtube.com/watch?v=8owQBFAHw7E&t=1937s"
      ]
    },
    {
      "cell_type": "code",
      "metadata": {
        "colab": {
          "base_uri": "https://localhost:8080/"
        },
        "id": "NCeOvp2iBffv",
        "outputId": "8c2b7515-7eb8-445f-e1a9-309788097836"
      },
      "source": [
        "!pip install numpy==1.18.5\n",
        "!pip install tensorflow==2.3.0\n",
        "!pip install spektral==0.6.2\n",
        "\n",
        "import numpy as np\n",
        "import tensorflow as tf\n",
        "import spektral"
      ],
      "execution_count": 1,
      "outputs": [
        {
          "output_type": "stream",
          "text": [
            "Requirement already satisfied: numpy==1.18.5 in /usr/local/lib/python3.7/dist-packages (1.18.5)\n",
            "Requirement already satisfied: tensorflow==2.3.0 in /usr/local/lib/python3.7/dist-packages (2.3.0)\n",
            "Requirement already satisfied: tensorboard<3,>=2.3.0 in /usr/local/lib/python3.7/dist-packages (from tensorflow==2.3.0) (2.5.0)\n",
            "Requirement already satisfied: grpcio>=1.8.6 in /usr/local/lib/python3.7/dist-packages (from tensorflow==2.3.0) (1.34.1)\n",
            "Requirement already satisfied: opt-einsum>=2.3.2 in /usr/local/lib/python3.7/dist-packages (from tensorflow==2.3.0) (3.3.0)\n",
            "Requirement already satisfied: tensorflow-estimator<2.4.0,>=2.3.0 in /usr/local/lib/python3.7/dist-packages (from tensorflow==2.3.0) (2.3.0)\n",
            "Requirement already satisfied: absl-py>=0.7.0 in /usr/local/lib/python3.7/dist-packages (from tensorflow==2.3.0) (0.12.0)\n",
            "Requirement already satisfied: termcolor>=1.1.0 in /usr/local/lib/python3.7/dist-packages (from tensorflow==2.3.0) (1.1.0)\n",
            "Requirement already satisfied: numpy<1.19.0,>=1.16.0 in /usr/local/lib/python3.7/dist-packages (from tensorflow==2.3.0) (1.18.5)\n",
            "Requirement already satisfied: keras-preprocessing<1.2,>=1.1.1 in /usr/local/lib/python3.7/dist-packages (from tensorflow==2.3.0) (1.1.2)\n",
            "Requirement already satisfied: wheel>=0.26 in /usr/local/lib/python3.7/dist-packages (from tensorflow==2.3.0) (0.36.2)\n",
            "Requirement already satisfied: scipy==1.4.1 in /usr/local/lib/python3.7/dist-packages (from tensorflow==2.3.0) (1.4.1)\n",
            "Requirement already satisfied: wrapt>=1.11.1 in /usr/local/lib/python3.7/dist-packages (from tensorflow==2.3.0) (1.12.1)\n",
            "Requirement already satisfied: h5py<2.11.0,>=2.10.0 in /usr/local/lib/python3.7/dist-packages (from tensorflow==2.3.0) (2.10.0)\n",
            "Requirement already satisfied: astunparse==1.6.3 in /usr/local/lib/python3.7/dist-packages (from tensorflow==2.3.0) (1.6.3)\n",
            "Requirement already satisfied: google-pasta>=0.1.8 in /usr/local/lib/python3.7/dist-packages (from tensorflow==2.3.0) (0.2.0)\n",
            "Requirement already satisfied: six>=1.12.0 in /usr/local/lib/python3.7/dist-packages (from tensorflow==2.3.0) (1.15.0)\n",
            "Requirement already satisfied: gast==0.3.3 in /usr/local/lib/python3.7/dist-packages (from tensorflow==2.3.0) (0.3.3)\n",
            "Requirement already satisfied: protobuf>=3.9.2 in /usr/local/lib/python3.7/dist-packages (from tensorflow==2.3.0) (3.17.3)\n",
            "Requirement already satisfied: setuptools>=41.0.0 in /usr/local/lib/python3.7/dist-packages (from tensorboard<3,>=2.3.0->tensorflow==2.3.0) (57.0.0)\n",
            "Requirement already satisfied: google-auth-oauthlib<0.5,>=0.4.1 in /usr/local/lib/python3.7/dist-packages (from tensorboard<3,>=2.3.0->tensorflow==2.3.0) (0.4.4)\n",
            "Requirement already satisfied: requests<3,>=2.21.0 in /usr/local/lib/python3.7/dist-packages (from tensorboard<3,>=2.3.0->tensorflow==2.3.0) (2.23.0)\n",
            "Requirement already satisfied: tensorboard-data-server<0.7.0,>=0.6.0 in /usr/local/lib/python3.7/dist-packages (from tensorboard<3,>=2.3.0->tensorflow==2.3.0) (0.6.1)\n",
            "Requirement already satisfied: google-auth<2,>=1.6.3 in /usr/local/lib/python3.7/dist-packages (from tensorboard<3,>=2.3.0->tensorflow==2.3.0) (1.32.1)\n",
            "Requirement already satisfied: tensorboard-plugin-wit>=1.6.0 in /usr/local/lib/python3.7/dist-packages (from tensorboard<3,>=2.3.0->tensorflow==2.3.0) (1.8.0)\n",
            "Requirement already satisfied: markdown>=2.6.8 in /usr/local/lib/python3.7/dist-packages (from tensorboard<3,>=2.3.0->tensorflow==2.3.0) (3.3.4)\n",
            "Requirement already satisfied: werkzeug>=0.11.15 in /usr/local/lib/python3.7/dist-packages (from tensorboard<3,>=2.3.0->tensorflow==2.3.0) (1.0.1)\n",
            "Requirement already satisfied: requests-oauthlib>=0.7.0 in /usr/local/lib/python3.7/dist-packages (from google-auth-oauthlib<0.5,>=0.4.1->tensorboard<3,>=2.3.0->tensorflow==2.3.0) (1.3.0)\n",
            "Requirement already satisfied: idna<3,>=2.5 in /usr/local/lib/python3.7/dist-packages (from requests<3,>=2.21.0->tensorboard<3,>=2.3.0->tensorflow==2.3.0) (2.10)\n",
            "Requirement already satisfied: chardet<4,>=3.0.2 in /usr/local/lib/python3.7/dist-packages (from requests<3,>=2.21.0->tensorboard<3,>=2.3.0->tensorflow==2.3.0) (3.0.4)\n",
            "Requirement already satisfied: urllib3!=1.25.0,!=1.25.1,<1.26,>=1.21.1 in /usr/local/lib/python3.7/dist-packages (from requests<3,>=2.21.0->tensorboard<3,>=2.3.0->tensorflow==2.3.0) (1.24.3)\n",
            "Requirement already satisfied: certifi>=2017.4.17 in /usr/local/lib/python3.7/dist-packages (from requests<3,>=2.21.0->tensorboard<3,>=2.3.0->tensorflow==2.3.0) (2021.5.30)\n",
            "Requirement already satisfied: cachetools<5.0,>=2.0.0 in /usr/local/lib/python3.7/dist-packages (from google-auth<2,>=1.6.3->tensorboard<3,>=2.3.0->tensorflow==2.3.0) (4.2.2)\n",
            "Requirement already satisfied: pyasn1-modules>=0.2.1 in /usr/local/lib/python3.7/dist-packages (from google-auth<2,>=1.6.3->tensorboard<3,>=2.3.0->tensorflow==2.3.0) (0.2.8)\n",
            "Requirement already satisfied: rsa<5,>=3.1.4; python_version >= \"3.6\" in /usr/local/lib/python3.7/dist-packages (from google-auth<2,>=1.6.3->tensorboard<3,>=2.3.0->tensorflow==2.3.0) (4.7.2)\n",
            "Requirement already satisfied: importlib-metadata; python_version < \"3.8\" in /usr/local/lib/python3.7/dist-packages (from markdown>=2.6.8->tensorboard<3,>=2.3.0->tensorflow==2.3.0) (4.6.0)\n",
            "Requirement already satisfied: oauthlib>=3.0.0 in /usr/local/lib/python3.7/dist-packages (from requests-oauthlib>=0.7.0->google-auth-oauthlib<0.5,>=0.4.1->tensorboard<3,>=2.3.0->tensorflow==2.3.0) (3.1.1)\n",
            "Requirement already satisfied: pyasn1<0.5.0,>=0.4.6 in /usr/local/lib/python3.7/dist-packages (from pyasn1-modules>=0.2.1->google-auth<2,>=1.6.3->tensorboard<3,>=2.3.0->tensorflow==2.3.0) (0.4.8)\n",
            "Requirement already satisfied: zipp>=0.5 in /usr/local/lib/python3.7/dist-packages (from importlib-metadata; python_version < \"3.8\"->markdown>=2.6.8->tensorboard<3,>=2.3.0->tensorflow==2.3.0) (3.4.1)\n",
            "Requirement already satisfied: typing-extensions>=3.6.4; python_version < \"3.8\" in /usr/local/lib/python3.7/dist-packages (from importlib-metadata; python_version < \"3.8\"->markdown>=2.6.8->tensorboard<3,>=2.3.0->tensorflow==2.3.0) (3.7.4.3)\n",
            "Requirement already satisfied: spektral==0.6.2 in /usr/local/lib/python3.7/dist-packages (0.6.2)\n",
            "Requirement already satisfied: tensorflow>=2.1.0 in /usr/local/lib/python3.7/dist-packages (from spektral==0.6.2) (2.3.0)\n",
            "Requirement already satisfied: pandas in /usr/local/lib/python3.7/dist-packages (from spektral==0.6.2) (1.1.5)\n",
            "Requirement already satisfied: numpy in /usr/local/lib/python3.7/dist-packages (from spektral==0.6.2) (1.18.5)\n",
            "Requirement already satisfied: scipy in /usr/local/lib/python3.7/dist-packages (from spektral==0.6.2) (1.4.1)\n",
            "Requirement already satisfied: joblib in /usr/local/lib/python3.7/dist-packages (from spektral==0.6.2) (1.0.1)\n",
            "Requirement already satisfied: scikit-learn in /usr/local/lib/python3.7/dist-packages (from spektral==0.6.2) (0.22.2.post1)\n",
            "Requirement already satisfied: networkx in /usr/local/lib/python3.7/dist-packages (from spektral==0.6.2) (2.5.1)\n",
            "Requirement already satisfied: lxml in /usr/local/lib/python3.7/dist-packages (from spektral==0.6.2) (4.2.6)\n",
            "Requirement already satisfied: requests in /usr/local/lib/python3.7/dist-packages (from spektral==0.6.2) (2.23.0)\n",
            "Requirement already satisfied: termcolor>=1.1.0 in /usr/local/lib/python3.7/dist-packages (from tensorflow>=2.1.0->spektral==0.6.2) (1.1.0)\n",
            "Requirement already satisfied: tensorboard<3,>=2.3.0 in /usr/local/lib/python3.7/dist-packages (from tensorflow>=2.1.0->spektral==0.6.2) (2.5.0)\n",
            "Requirement already satisfied: gast==0.3.3 in /usr/local/lib/python3.7/dist-packages (from tensorflow>=2.1.0->spektral==0.6.2) (0.3.3)\n",
            "Requirement already satisfied: opt-einsum>=2.3.2 in /usr/local/lib/python3.7/dist-packages (from tensorflow>=2.1.0->spektral==0.6.2) (3.3.0)\n",
            "Requirement already satisfied: wheel>=0.26 in /usr/local/lib/python3.7/dist-packages (from tensorflow>=2.1.0->spektral==0.6.2) (0.36.2)\n",
            "Requirement already satisfied: tensorflow-estimator<2.4.0,>=2.3.0 in /usr/local/lib/python3.7/dist-packages (from tensorflow>=2.1.0->spektral==0.6.2) (2.3.0)\n",
            "Requirement already satisfied: grpcio>=1.8.6 in /usr/local/lib/python3.7/dist-packages (from tensorflow>=2.1.0->spektral==0.6.2) (1.34.1)\n",
            "Requirement already satisfied: google-pasta>=0.1.8 in /usr/local/lib/python3.7/dist-packages (from tensorflow>=2.1.0->spektral==0.6.2) (0.2.0)\n",
            "Requirement already satisfied: astunparse==1.6.3 in /usr/local/lib/python3.7/dist-packages (from tensorflow>=2.1.0->spektral==0.6.2) (1.6.3)\n",
            "Requirement already satisfied: protobuf>=3.9.2 in /usr/local/lib/python3.7/dist-packages (from tensorflow>=2.1.0->spektral==0.6.2) (3.17.3)\n",
            "Requirement already satisfied: h5py<2.11.0,>=2.10.0 in /usr/local/lib/python3.7/dist-packages (from tensorflow>=2.1.0->spektral==0.6.2) (2.10.0)\n",
            "Requirement already satisfied: six>=1.12.0 in /usr/local/lib/python3.7/dist-packages (from tensorflow>=2.1.0->spektral==0.6.2) (1.15.0)\n",
            "Requirement already satisfied: wrapt>=1.11.1 in /usr/local/lib/python3.7/dist-packages (from tensorflow>=2.1.0->spektral==0.6.2) (1.12.1)\n",
            "Requirement already satisfied: keras-preprocessing<1.2,>=1.1.1 in /usr/local/lib/python3.7/dist-packages (from tensorflow>=2.1.0->spektral==0.6.2) (1.1.2)\n",
            "Requirement already satisfied: absl-py>=0.7.0 in /usr/local/lib/python3.7/dist-packages (from tensorflow>=2.1.0->spektral==0.6.2) (0.12.0)\n",
            "Requirement already satisfied: pytz>=2017.2 in /usr/local/lib/python3.7/dist-packages (from pandas->spektral==0.6.2) (2018.9)\n",
            "Requirement already satisfied: python-dateutil>=2.7.3 in /usr/local/lib/python3.7/dist-packages (from pandas->spektral==0.6.2) (2.8.1)\n",
            "Requirement already satisfied: decorator<5,>=4.3 in /usr/local/lib/python3.7/dist-packages (from networkx->spektral==0.6.2) (4.4.2)\n",
            "Requirement already satisfied: certifi>=2017.4.17 in /usr/local/lib/python3.7/dist-packages (from requests->spektral==0.6.2) (2021.5.30)\n",
            "Requirement already satisfied: idna<3,>=2.5 in /usr/local/lib/python3.7/dist-packages (from requests->spektral==0.6.2) (2.10)\n",
            "Requirement already satisfied: urllib3!=1.25.0,!=1.25.1,<1.26,>=1.21.1 in /usr/local/lib/python3.7/dist-packages (from requests->spektral==0.6.2) (1.24.3)\n",
            "Requirement already satisfied: chardet<4,>=3.0.2 in /usr/local/lib/python3.7/dist-packages (from requests->spektral==0.6.2) (3.0.4)\n",
            "Requirement already satisfied: tensorboard-plugin-wit>=1.6.0 in /usr/local/lib/python3.7/dist-packages (from tensorboard<3,>=2.3.0->tensorflow>=2.1.0->spektral==0.6.2) (1.8.0)\n",
            "Requirement already satisfied: google-auth<2,>=1.6.3 in /usr/local/lib/python3.7/dist-packages (from tensorboard<3,>=2.3.0->tensorflow>=2.1.0->spektral==0.6.2) (1.32.1)\n",
            "Requirement already satisfied: markdown>=2.6.8 in /usr/local/lib/python3.7/dist-packages (from tensorboard<3,>=2.3.0->tensorflow>=2.1.0->spektral==0.6.2) (3.3.4)\n",
            "Requirement already satisfied: google-auth-oauthlib<0.5,>=0.4.1 in /usr/local/lib/python3.7/dist-packages (from tensorboard<3,>=2.3.0->tensorflow>=2.1.0->spektral==0.6.2) (0.4.4)\n",
            "Requirement already satisfied: tensorboard-data-server<0.7.0,>=0.6.0 in /usr/local/lib/python3.7/dist-packages (from tensorboard<3,>=2.3.0->tensorflow>=2.1.0->spektral==0.6.2) (0.6.1)\n",
            "Requirement already satisfied: setuptools>=41.0.0 in /usr/local/lib/python3.7/dist-packages (from tensorboard<3,>=2.3.0->tensorflow>=2.1.0->spektral==0.6.2) (57.0.0)\n",
            "Requirement already satisfied: werkzeug>=0.11.15 in /usr/local/lib/python3.7/dist-packages (from tensorboard<3,>=2.3.0->tensorflow>=2.1.0->spektral==0.6.2) (1.0.1)\n",
            "Requirement already satisfied: cachetools<5.0,>=2.0.0 in /usr/local/lib/python3.7/dist-packages (from google-auth<2,>=1.6.3->tensorboard<3,>=2.3.0->tensorflow>=2.1.0->spektral==0.6.2) (4.2.2)\n",
            "Requirement already satisfied: pyasn1-modules>=0.2.1 in /usr/local/lib/python3.7/dist-packages (from google-auth<2,>=1.6.3->tensorboard<3,>=2.3.0->tensorflow>=2.1.0->spektral==0.6.2) (0.2.8)\n",
            "Requirement already satisfied: rsa<5,>=3.1.4; python_version >= \"3.6\" in /usr/local/lib/python3.7/dist-packages (from google-auth<2,>=1.6.3->tensorboard<3,>=2.3.0->tensorflow>=2.1.0->spektral==0.6.2) (4.7.2)\n",
            "Requirement already satisfied: importlib-metadata; python_version < \"3.8\" in /usr/local/lib/python3.7/dist-packages (from markdown>=2.6.8->tensorboard<3,>=2.3.0->tensorflow>=2.1.0->spektral==0.6.2) (4.6.0)\n",
            "Requirement already satisfied: requests-oauthlib>=0.7.0 in /usr/local/lib/python3.7/dist-packages (from google-auth-oauthlib<0.5,>=0.4.1->tensorboard<3,>=2.3.0->tensorflow>=2.1.0->spektral==0.6.2) (1.3.0)\n",
            "Requirement already satisfied: pyasn1<0.5.0,>=0.4.6 in /usr/local/lib/python3.7/dist-packages (from pyasn1-modules>=0.2.1->google-auth<2,>=1.6.3->tensorboard<3,>=2.3.0->tensorflow>=2.1.0->spektral==0.6.2) (0.4.8)\n",
            "Requirement already satisfied: zipp>=0.5 in /usr/local/lib/python3.7/dist-packages (from importlib-metadata; python_version < \"3.8\"->markdown>=2.6.8->tensorboard<3,>=2.3.0->tensorflow>=2.1.0->spektral==0.6.2) (3.4.1)\n",
            "Requirement already satisfied: typing-extensions>=3.6.4; python_version < \"3.8\" in /usr/local/lib/python3.7/dist-packages (from importlib-metadata; python_version < \"3.8\"->markdown>=2.6.8->tensorboard<3,>=2.3.0->tensorflow>=2.1.0->spektral==0.6.2) (3.7.4.3)\n",
            "Requirement already satisfied: oauthlib>=3.0.0 in /usr/local/lib/python3.7/dist-packages (from requests-oauthlib>=0.7.0->google-auth-oauthlib<0.5,>=0.4.1->tensorboard<3,>=2.3.0->tensorflow>=2.1.0->spektral==0.6.2) (3.1.1)\n"
          ],
          "name": "stdout"
        }
      ]
    },
    {
      "cell_type": "code",
      "metadata": {
        "colab": {
          "base_uri": "https://localhost:8080/",
          "height": 35
        },
        "id": "cC36FTIPMvkX",
        "outputId": "223a780c-2f56-409d-a8cf-e0e3206af640"
      },
      "source": [
        "# Runtime / Change runtime type / Hardware = GPU\n",
        "tf.test.gpu_device_name()"
      ],
      "execution_count": 2,
      "outputs": [
        {
          "output_type": "execute_result",
          "data": {
            "application/vnd.google.colaboratory.intrinsic+json": {
              "type": "string"
            },
            "text/plain": [
              "'/device:GPU:0'"
            ]
          },
          "metadata": {
            "tags": []
          },
          "execution_count": 2
        }
      ]
    },
    {
      "cell_type": "code",
      "metadata": {
        "colab": {
          "base_uri": "https://localhost:8080/"
        },
        "id": "HQT1L9tNM7PU",
        "outputId": "6a2249e6-eaa2-411d-eb55-3055fa533fda"
      },
      "source": [
        "from tensorflow.python.client import device_lib\n",
        "device_lib.list_local_devices()"
      ],
      "execution_count": 3,
      "outputs": [
        {
          "output_type": "execute_result",
          "data": {
            "text/plain": [
              "[name: \"/device:CPU:0\"\n",
              " device_type: \"CPU\"\n",
              " memory_limit: 268435456\n",
              " locality {\n",
              " }\n",
              " incarnation: 17734619567826574528, name: \"/device:XLA_CPU:0\"\n",
              " device_type: \"XLA_CPU\"\n",
              " memory_limit: 17179869184\n",
              " locality {\n",
              " }\n",
              " incarnation: 5503377676249660966\n",
              " physical_device_desc: \"device: XLA_CPU device\", name: \"/device:XLA_GPU:0\"\n",
              " device_type: \"XLA_GPU\"\n",
              " memory_limit: 17179869184\n",
              " locality {\n",
              " }\n",
              " incarnation: 13085154099502636814\n",
              " physical_device_desc: \"device: XLA_GPU device\", name: \"/device:GPU:0\"\n",
              " device_type: \"GPU\"\n",
              " memory_limit: 14648653952\n",
              " locality {\n",
              "   bus_id: 1\n",
              "   links {\n",
              "   }\n",
              " }\n",
              " incarnation: 9936629069816933398\n",
              " physical_device_desc: \"device: 0, name: Tesla T4, pci bus id: 0000:00:04.0, compute capability: 7.5\"]"
            ]
          },
          "metadata": {
            "tags": []
          },
          "execution_count": 3
        }
      ]
    },
    {
      "cell_type": "code",
      "metadata": {
        "colab": {
          "base_uri": "https://localhost:8080/"
        },
        "id": "JaVHL_5lBrYy",
        "outputId": "9a64d3cf-ae34-4b2b-a309-a7a25de703e1"
      },
      "source": [
        "adj, features, labels, train_mask, val_mask, test_mask = spektral.datasets.citation.load_data(dataset_name='cora')\n",
        "\n",
        "features = features.todense()\n",
        "adj = adj.todense() + np.eye(adj.shape[0])\n",
        "features = features.astype('float32')\n",
        "adj = adj.astype('float32')\n",
        "\n",
        "print(features.shape)\n",
        "print(adj.shape)\n",
        "print(labels.shape)\n",
        "\n",
        "print(np.sum(train_mask))\n",
        "print(np.sum(val_mask))\n",
        "print(np.sum(test_mask))"
      ],
      "execution_count": 4,
      "outputs": [
        {
          "output_type": "stream",
          "text": [
            "Loading cora dataset\n",
            "Pre-processing node features\n",
            "(2708, 1433)\n",
            "(2708, 2708)\n",
            "(2708, 7)\n",
            "140\n",
            "500\n",
            "1000\n"
          ],
          "name": "stdout"
        }
      ]
    },
    {
      "cell_type": "code",
      "metadata": {
        "id": "lyB75r3FEbai"
      },
      "source": [
        "def masked_softmax_cross_entropy(logits, labels, mask):\n",
        "  loss = tf.nn.softmax_cross_entropy_with_logits(logits=logits, labels=labels)\n",
        "  mask = tf.cast(mask, dtype=tf.float32)\n",
        "  mask /= tf.reduce_mean(mask)\n",
        "  loss *= mask\n",
        "  return tf.reduce_mean(loss)\n",
        "\n",
        "def masked_accuracy(logits, labels, mask):\n",
        "  correct_prediction = tf.equal(tf.argmax(logits, 1), tf.argmax(labels, 1))\n",
        "  accuracy_all = tf.cast(correct_prediction, tf.float32)\n",
        "  mask = tf.cast(mask, dtype=tf.float32)\n",
        "  mask /= tf.reduce_mean(mask)\n",
        "  accuracy_all *= mask\n",
        "  return tf.reduce_mean(accuracy_all)"
      ],
      "execution_count": 5,
      "outputs": []
    },
    {
      "cell_type": "code",
      "metadata": {
        "id": "Pttrqo2oIThK"
      },
      "source": [
        "def gnn(fts, adj, transform, activation):\n",
        "  seq_fts = transform(fts)\n",
        "  ret_fts = tf.matmul(adj, seq_fts)\n",
        "  return activation(ret_fts)"
      ],
      "execution_count": 6,
      "outputs": []
    },
    {
      "cell_type": "code",
      "metadata": {
        "id": "F9CHgRHzIzdq"
      },
      "source": [
        "def train_cora(fts, adj, gnn_fn, units, epochs, lr):\n",
        "  lyr_1 = tf.keras.layers.Dense(units)\n",
        "  lyr_2 = tf.keras.layers.Dense(7)\n",
        "\n",
        "  def cora_gnn(fts, adj):\n",
        "    hidden = gnn_fn(fts, adj, lyr_1, tf.nn.relu)\n",
        "    logits = gnn_fn(hidden, adj, lyr_2, tf.identity)\n",
        "    return logits\n",
        "\n",
        "  optimizer = tf.keras.optimizers.Adam(learning_rate=lr)\n",
        "\n",
        "  best_accuracy = 0.0\n",
        "  for ep in range(epochs +1):\n",
        "    with tf.GradientTape() as t:\n",
        "      logits = cora_gnn(fts, adj)\n",
        "      loss = masked_softmax_cross_entropy(logits, labels, train_mask)\n",
        "\n",
        "    variables = t.watched_variables()\n",
        "    grads = t.gradient(loss, variables)\n",
        "    optimizer.apply_gradients(zip(grads, variables))\n",
        "\n",
        "    logits = cora_gnn(fts, adj)\n",
        "    val_accuracy = masked_accuracy(logits, labels, val_mask)\n",
        "    test_accuracy = masked_accuracy(logits, labels, test_mask)\n",
        "    \n",
        "    if val_accuracy > best_accuracy:\n",
        "      best_accuracy = val_accuracy\n",
        "      print('Epoch', ep, '| Training loss:', loss.numpy(), '| Val accuracy:', val_accuracy.numpy(), '|Test accuracy:', test_accuracy.numpy())\n"
      ],
      "execution_count": 7,
      "outputs": []
    },
    {
      "cell_type": "code",
      "metadata": {
        "colab": {
          "base_uri": "https://localhost:8080/"
        },
        "id": "uavLCsRPKllL",
        "outputId": "d859149f-1609-46b8-b2b0-7a4cb40314f8"
      },
      "source": [
        "# sum-pooling\n",
        "train_cora(features, adj, gnn, 32, 200, 0.01)"
      ],
      "execution_count": 8,
      "outputs": [
        {
          "output_type": "stream",
          "text": [
            "Epoch 0 | Training loss: 2.0505333 | Val accuracy: 0.328 |Test accuracy: 0.31799996\n",
            "Epoch 2 | Training loss: 1.6232643 | Val accuracy: 0.6279999 |Test accuracy: 0.65599996\n",
            "Epoch 3 | Training loss: 1.4150956 | Val accuracy: 0.66199994 |Test accuracy: 0.6769999\n",
            "Epoch 4 | Training loss: 1.2940761 | Val accuracy: 0.682 |Test accuracy: 0.69799995\n",
            "Epoch 6 | Training loss: 1.1062359 | Val accuracy: 0.69 |Test accuracy: 0.7299999\n",
            "Epoch 7 | Training loss: 1.0041367 | Val accuracy: 0.72199994 |Test accuracy: 0.7469999\n",
            "Epoch 20 | Training loss: 0.35307795 | Val accuracy: 0.7239999 |Test accuracy: 0.75299996\n",
            "Epoch 21 | Training loss: 0.32622668 | Val accuracy: 0.72599995 |Test accuracy: 0.75399995\n",
            "Epoch 22 | Training loss: 0.3021875 | Val accuracy: 0.73199993 |Test accuracy: 0.74799997\n",
            "Epoch 24 | Training loss: 0.2591448 | Val accuracy: 0.73599994 |Test accuracy: 0.74399996\n",
            "Epoch 25 | Training loss: 0.23997287 | Val accuracy: 0.73999995 |Test accuracy: 0.74499995\n",
            "Epoch 26 | Training loss: 0.22234386 | Val accuracy: 0.74599993 |Test accuracy: 0.74599993\n",
            "Epoch 37 | Training loss: 0.0925923 | Val accuracy: 0.74799997 |Test accuracy: 0.75399995\n",
            "Epoch 38 | Training loss: 0.0854539 | Val accuracy: 0.74999994 |Test accuracy: 0.7509999\n",
            "Epoch 41 | Training loss: 0.067453325 | Val accuracy: 0.752 |Test accuracy: 0.755\n",
            "Epoch 42 | Training loss: 0.062471 | Val accuracy: 0.75399995 |Test accuracy: 0.757\n",
            "Epoch 44 | Training loss: 0.053729866 | Val accuracy: 0.756 |Test accuracy: 0.75399995\n",
            "Epoch 46 | Training loss: 0.046394408 | Val accuracy: 0.75799996 |Test accuracy: 0.75200003\n",
            "Epoch 50 | Training loss: 0.035017043 | Val accuracy: 0.75999993 |Test accuracy: 0.7519999\n",
            "Epoch 51 | Training loss: 0.03276652 | Val accuracy: 0.76199996 |Test accuracy: 0.7529999\n",
            "Epoch 52 | Training loss: 0.030703051 | Val accuracy: 0.7639999 |Test accuracy: 0.75399995\n"
          ],
          "name": "stdout"
        }
      ]
    },
    {
      "cell_type": "code",
      "metadata": {
        "colab": {
          "base_uri": "https://localhost:8080/"
        },
        "id": "aC81JQOTKwM9",
        "outputId": "392bbb66-ae76-4ee6-e761-f681b5bca88a"
      },
      "source": [
        "# NN w/o graph structure (identity for adjacency matrix)\n",
        "train_cora(features, tf.eye(adj.shape[0]), gnn, 32, 200, 0.01)"
      ],
      "execution_count": 9,
      "outputs": [
        {
          "output_type": "stream",
          "text": [
            "Epoch 0 | Training loss: 1.9453545 | Val accuracy: 0.16799998 |Test accuracy: 0.15799998\n",
            "Epoch 1 | Training loss: 1.9287205 | Val accuracy: 0.29799998 |Test accuracy: 0.26999998\n",
            "Epoch 2 | Training loss: 1.9065403 | Val accuracy: 0.434 |Test accuracy: 0.41099992\n",
            "Epoch 3 | Training loss: 1.8791271 | Val accuracy: 0.46199998 |Test accuracy: 0.44899994\n",
            "Epoch 4 | Training loss: 1.8481181 | Val accuracy: 0.48999998 |Test accuracy: 0.47699994\n",
            "Epoch 5 | Training loss: 1.8145783 | Val accuracy: 0.51 |Test accuracy: 0.49799994\n",
            "Epoch 16 | Training loss: 1.2710665 | Val accuracy: 0.51399994 |Test accuracy: 0.49199992\n",
            "Epoch 23 | Training loss: 0.8303304 | Val accuracy: 0.516 |Test accuracy: 0.50999993\n",
            "Epoch 24 | Training loss: 0.769275 | Val accuracy: 0.5199999 |Test accuracy: 0.51199996\n",
            "Epoch 25 | Training loss: 0.7098981 | Val accuracy: 0.52199996 |Test accuracy: 0.5109999\n",
            "Epoch 27 | Training loss: 0.5975907 | Val accuracy: 0.52799994 |Test accuracy: 0.5149999\n",
            "Epoch 41 | Training loss: 0.13554528 | Val accuracy: 0.528 |Test accuracy: 0.5199999\n",
            "Epoch 47 | Training loss: 0.07260014 | Val accuracy: 0.5299999 |Test accuracy: 0.5199999\n",
            "Epoch 50 | Training loss: 0.055079415 | Val accuracy: 0.5319999 |Test accuracy: 0.5149999\n",
            "Epoch 60 | Training loss: 0.026817268 | Val accuracy: 0.5339999 |Test accuracy: 0.5169999\n",
            "Epoch 61 | Training loss: 0.025349349 | Val accuracy: 0.5359999 |Test accuracy: 0.5159999\n",
            "Epoch 80 | Training loss: 0.01236056 | Val accuracy: 0.5379999 |Test accuracy: 0.51299995\n",
            "Epoch 96 | Training loss: 0.0088425 | Val accuracy: 0.53999996 |Test accuracy: 0.5149999\n"
          ],
          "name": "stdout"
        }
      ]
    },
    {
      "cell_type": "code",
      "metadata": {
        "colab": {
          "base_uri": "https://localhost:8080/"
        },
        "id": "HQU-ntGYTsmu",
        "outputId": "97ea6612-1a4c-4f79-bec1-523fa8e01cdd"
      },
      "source": [
        "# mean-pooling = normalize using degree matrix\n",
        "deg = tf.reduce_sum(adj, axis=-1)\n",
        "train_cora(features, adj / deg, gnn, 32, 200, 0.01)"
      ],
      "execution_count": 10,
      "outputs": [
        {
          "output_type": "stream",
          "text": [
            "Epoch 0 | Training loss: 1.946705 | Val accuracy: 0.17199999 |Test accuracy: 0.20499998\n",
            "Epoch 1 | Training loss: 1.9353514 | Val accuracy: 0.18 |Test accuracy: 0.212\n",
            "Epoch 2 | Training loss: 1.922523 | Val accuracy: 0.18599999 |Test accuracy: 0.22099999\n",
            "Epoch 3 | Training loss: 1.906187 | Val accuracy: 0.18800001 |Test accuracy: 0.226\n",
            "Epoch 4 | Training loss: 1.8877115 | Val accuracy: 0.19599998 |Test accuracy: 0.22999999\n",
            "Epoch 5 | Training loss: 1.8668983 | Val accuracy: 0.21 |Test accuracy: 0.247\n",
            "Epoch 6 | Training loss: 1.845751 | Val accuracy: 0.22399998 |Test accuracy: 0.27299994\n",
            "Epoch 7 | Training loss: 1.8227019 | Val accuracy: 0.26999998 |Test accuracy: 0.311\n",
            "Epoch 8 | Training loss: 1.796603 | Val accuracy: 0.32999998 |Test accuracy: 0.36599997\n",
            "Epoch 9 | Training loss: 1.7679597 | Val accuracy: 0.39399996 |Test accuracy: 0.42599997\n",
            "Epoch 10 | Training loss: 1.7384866 | Val accuracy: 0.48799998 |Test accuracy: 0.501\n",
            "Epoch 11 | Training loss: 1.7077496 | Val accuracy: 0.55599993 |Test accuracy: 0.5759999\n",
            "Epoch 12 | Training loss: 1.6752452 | Val accuracy: 0.612 |Test accuracy: 0.62999994\n",
            "Epoch 13 | Training loss: 1.640697 | Val accuracy: 0.65599996 |Test accuracy: 0.67299986\n",
            "Epoch 14 | Training loss: 1.6040969 | Val accuracy: 0.69399995 |Test accuracy: 0.7009999\n",
            "Epoch 15 | Training loss: 1.5654628 | Val accuracy: 0.7199999 |Test accuracy: 0.7279999\n",
            "Epoch 16 | Training loss: 1.5249295 | Val accuracy: 0.7279999 |Test accuracy: 0.74799997\n",
            "Epoch 17 | Training loss: 1.4829469 | Val accuracy: 0.738 |Test accuracy: 0.76100004\n",
            "Epoch 18 | Training loss: 1.4397976 | Val accuracy: 0.754 |Test accuracy: 0.777\n",
            "Epoch 19 | Training loss: 1.3954366 | Val accuracy: 0.75600004 |Test accuracy: 0.785\n",
            "Epoch 20 | Training loss: 1.3499312 | Val accuracy: 0.76399994 |Test accuracy: 0.7879999\n",
            "Epoch 21 | Training loss: 1.303444 | Val accuracy: 0.76799995 |Test accuracy: 0.7889999\n",
            "Epoch 22 | Training loss: 1.2561188 | Val accuracy: 0.77 |Test accuracy: 0.79699993\n",
            "Epoch 23 | Training loss: 1.2081796 | Val accuracy: 0.77199996 |Test accuracy: 0.79899997\n",
            "Epoch 25 | Training loss: 1.1113139 | Val accuracy: 0.77599996 |Test accuracy: 0.80099994\n",
            "Epoch 26 | Training loss: 1.0629004 | Val accuracy: 0.782 |Test accuracy: 0.80399996\n",
            "Epoch 29 | Training loss: 0.92042965 | Val accuracy: 0.786 |Test accuracy: 0.809\n",
            "Epoch 38 | Training loss: 0.5565761 | Val accuracy: 0.79 |Test accuracy: 0.8179999\n"
          ],
          "name": "stdout"
        }
      ]
    },
    {
      "cell_type": "code",
      "metadata": {
        "colab": {
          "base_uri": "https://localhost:8080/"
        },
        "id": "L0_aZhi4T80g",
        "outputId": "891d7949-27f1-4e48-b5b0-a67a13caf48e"
      },
      "source": [
        "# symmetric normalization\n",
        "# GCN (Kipf & Welling, ICLR 2017)\n",
        "norm_deg = tf.linalg.diag(1.0 / tf.sqrt(deg))\n",
        "norm_adj = tf.matmul(norm_deg, tf.matmul(adj, norm_deg))\n",
        "train_cora(features, norm_adj, gnn, 32, 200, 0.01)"
      ],
      "execution_count": 13,
      "outputs": [
        {
          "output_type": "stream",
          "text": [
            "Epoch 0 | Training loss: 1.9460517 | Val accuracy: 0.22599998 |Test accuracy: 0.23199996\n",
            "Epoch 2 | Training loss: 1.924489 | Val accuracy: 0.28799996 |Test accuracy: 0.27799997\n",
            "Epoch 3 | Training loss: 1.9086853 | Val accuracy: 0.306 |Test accuracy: 0.31799996\n",
            "Epoch 5 | Training loss: 1.8730012 | Val accuracy: 0.32599998 |Test accuracy: 0.34499997\n",
            "Epoch 6 | Training loss: 1.852701 | Val accuracy: 0.37399998 |Test accuracy: 0.39299995\n",
            "Epoch 7 | Training loss: 1.8306578 | Val accuracy: 0.42799997 |Test accuracy: 0.42999998\n",
            "Epoch 8 | Training loss: 1.8070008 | Val accuracy: 0.458 |Test accuracy: 0.47700003\n",
            "Epoch 9 | Training loss: 1.7813257 | Val accuracy: 0.49999994 |Test accuracy: 0.51699996\n",
            "Epoch 10 | Training loss: 1.7534341 | Val accuracy: 0.532 |Test accuracy: 0.5679999\n",
            "Epoch 11 | Training loss: 1.7238009 | Val accuracy: 0.58199996 |Test accuracy: 0.6179999\n",
            "Epoch 12 | Training loss: 1.6926037 | Val accuracy: 0.626 |Test accuracy: 0.659\n",
            "Epoch 13 | Training loss: 1.6593904 | Val accuracy: 0.66199994 |Test accuracy: 0.6919999\n",
            "Epoch 14 | Training loss: 1.6240945 | Val accuracy: 0.68599993 |Test accuracy: 0.715\n",
            "Epoch 15 | Training loss: 1.5872025 | Val accuracy: 0.70799994 |Test accuracy: 0.733\n",
            "Epoch 16 | Training loss: 1.548846 | Val accuracy: 0.718 |Test accuracy: 0.7469999\n",
            "Epoch 17 | Training loss: 1.508925 | Val accuracy: 0.73200005 |Test accuracy: 0.7569999\n",
            "Epoch 18 | Training loss: 1.4674889 | Val accuracy: 0.75 |Test accuracy: 0.77099997\n",
            "Epoch 19 | Training loss: 1.4246607 | Val accuracy: 0.75799996 |Test accuracy: 0.781\n",
            "Epoch 21 | Training loss: 1.3352771 | Val accuracy: 0.76199996 |Test accuracy: 0.78900003\n",
            "Epoch 22 | Training loss: 1.2890116 | Val accuracy: 0.76599985 |Test accuracy: 0.787\n",
            "Epoch 23 | Training loss: 1.2419163 | Val accuracy: 0.766 |Test accuracy: 0.79200006\n",
            "Epoch 24 | Training loss: 1.1941801 | Val accuracy: 0.77199996 |Test accuracy: 0.795\n",
            "Epoch 27 | Training loss: 1.0492711 | Val accuracy: 0.7779999 |Test accuracy: 0.799\n",
            "Epoch 28 | Training loss: 1.0010897 | Val accuracy: 0.778 |Test accuracy: 0.803\n",
            "Epoch 30 | Training loss: 0.9061983 | Val accuracy: 0.7799999 |Test accuracy: 0.805\n",
            "Epoch 32 | Training loss: 0.8145825 | Val accuracy: 0.7819999 |Test accuracy: 0.805\n",
            "Epoch 72 | Training loss: 0.081020944 | Val accuracy: 0.782 |Test accuracy: 0.79499996\n",
            "Epoch 78 | Training loss: 0.06322531 | Val accuracy: 0.784 |Test accuracy: 0.79499996\n",
            "Epoch 83 | Training loss: 0.052637592 | Val accuracy: 0.786 |Test accuracy: 0.79199994\n"
          ],
          "name": "stdout"
        }
      ]
    },
    {
      "cell_type": "code",
      "metadata": {
        "id": "NwTMgZ_TUQMX"
      },
      "source": [
        ""
      ],
      "execution_count": null,
      "outputs": []
    }
  ]
}